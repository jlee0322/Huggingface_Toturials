{
 "cells": [
  {
   "cell_type": "code",
   "execution_count": 1,
   "id": "48469796",
   "metadata": {},
   "outputs": [],
   "source": [
    "#環境\n",
    "#python=3.6\n",
    "#pytorch=1.10"
   ]
  },
  {
   "cell_type": "code",
   "execution_count": 2,
   "id": "c01fc811",
   "metadata": {},
   "outputs": [],
   "source": [
    "#安裝transformers\n",
    "#pip安裝\n",
    "#pip install transformers\n",
    "\n",
    "#conda安裝\n",
    "#conda install -c huggingface transformers"
   ]
  },
  {
   "cell_type": "code",
   "execution_count": 3,
   "id": "8e7adbd4",
   "metadata": {},
   "outputs": [],
   "source": [
    "#安裝datasets\n",
    "#pip安裝\n",
    "#pip install datasets\n",
    "\n",
    "#conda安裝\n",
    "#conda install -c huggingface -c conda-forge datasets"
   ]
  }
 ],
 "metadata": {
  "kernelspec": {
   "display_name": "Python 3",
   "language": "python",
   "name": "python3"
  },
  "language_info": {
   "codemirror_mode": {
    "name": "ipython",
    "version": 3
   },
   "file_extension": ".py",
   "mimetype": "text/x-python",
   "name": "python",
   "nbconvert_exporter": "python",
   "pygments_lexer": "ipython3",
   "version": "3.6.13"
  }
 },
 "nbformat": 4,
 "nbformat_minor": 5
}
